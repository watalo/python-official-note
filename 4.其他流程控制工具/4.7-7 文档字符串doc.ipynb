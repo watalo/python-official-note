{
 "metadata": {
  "language_info": {
   "codemirror_mode": {
    "name": "ipython",
    "version": 3
   },
   "file_extension": ".py",
   "mimetype": "text/x-python",
   "name": "python",
   "nbconvert_exporter": "python",
   "pygments_lexer": "ipython3",
   "version": "3.8.6-final"
  },
  "orig_nbformat": 2,
  "kernelspec": {
   "name": "python38664bite0826404ec9f4f88a00ca1565c140931",
   "display_name": "Python 3.8.6 64-bit"
  }
 },
 "nbformat": 4,
 "nbformat_minor": 2,
 "cells": [
  {
   "cell_type": "code",
   "execution_count": 5,
   "metadata": {
    "tags": []
   },
   "outputs": [
    {
     "output_type": "stream",
     "name": "stdout",
     "text": "这是一个测试函数文档字符串的案例\n\n什么也没有写\n    \n"
    }
   ],
   "source": [
    "'''\n",
    "__doc__:调用函数的文档字符串；\n",
    "有很多中规范去写函数的文档，选个自己喜欢的就好\n",
    "'''\n",
    "def func():\n",
    "    '''这是一个测试函数文档字符串的案例\n",
    "\n",
    "    什么也没有写\n",
    "    '''\n",
    "    pass\n",
    "\n",
    "print(func.__doc__)\n",
    "\n"
   ]
  },
  {
   "cell_type": "code",
   "execution_count": 4,
   "metadata": {
    "tags": []
   },
   "outputs": [
    {
     "output_type": "stream",
     "name": "stdout",
     "text": "\n    这是一个测试函数文档字符串的案例\n\n    什么也没有写\n    \n"
    }
   ],
   "source": [
    "def func():\n",
    "    '''\n",
    "    这是一个测试函数文档字符串的案例\n",
    "\n",
    "    什么也没有写\n",
    "    '''\n",
    "    pass\n",
    "\n",
    "print(func.__doc__)"
   ]
  },
  {
   "cell_type": "code",
   "execution_count": null,
   "metadata": {},
   "outputs": [],
   "source": [
    "'''\n",
    "关于函数注释文档的写法，真的有好多种，如果函数只是自己用可以随便，但是如果其他人也会用的话，还是要用一个统一的标准。\n",
    "例如：\n",
    "descrption:\n",
    "\n",
    "param:\n",
    "\n",
    "return:\n",
    "\n",
    "'''"
   ]
  }
 ]
}